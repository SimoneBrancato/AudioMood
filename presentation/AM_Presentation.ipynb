{
 "cells": [
  {
   "cell_type": "markdown",
   "metadata": {
    "jp-MarkdownHeadingCollapsed": true,
    "slideshow": {
     "slide_type": "slide"
    }
   },
   "source": [
    "\n",
    "<div style=\"text-align: center; margin: 5px 0;\"> <img src=\"images/unict-logo.png\" width=\"100px\"> </div>\n",
    "\n",
    "<p style=\"text-align: center; margin: 5px 0;\" > University of Catania </p>\n",
    "<p style=\"text-align: center; margin: 5px 0;\"> Department of Mathematics and Computer Science </p>\n",
    "<p style=\"text-align: center; margin: 5px 0;\"> Technologies for Advanced Programming</p>\n",
    "<p style=\"text-align: center; margin: 5px 0;\"> Professor Salvatore Nicotra</p>\n",
    "<p style=\"text-align: center; margin: 5px 0;\">a.y. 2023/24</p>\n",
    "\n",
    "<h2 style=\"text-align: center; margin-top: 20px;\">AudioMood</h2>\n",
    "<p style=\"text-align: center;\">Maintainer: Simone Alfio Brancato</p>\n",
    "\n",
    "\n",
    "\n"
   ]
  },
  {
   "cell_type": "markdown",
   "metadata": {
    "slideshow": {
     "slide_type": "slide"
    },
    "vscode": {
     "languageId": "plaintext"
    }
   },
   "source": [
    "<img src=\"images/AudioMoodLogo.jpg\">"
   ]
  },
  {
   "cell_type": "markdown",
   "metadata": {
    "slideshow": {
     "slide_type": "slide"
    }
   },
   "source": [
    "# What is AudioMood"
   ]
  },
  {
   "cell_type": "markdown",
   "metadata": {
    "slideshow": {
     "slide_type": "subslide"
    }
   },
   "source": [
    "## Another YouTube counterpart?\n",
    "<img src=\"images/same_pictures.jpg\" width=\"400\">"
   ]
  },
  {
   "cell_type": "markdown",
   "metadata": {
    "slideshow": {
     "slide_type": "subslide"
    }
   },
   "source": [
    "## Not exactly the same user experience...\n",
    "**AudioMood** offers advanced analysis features for YouTube videos, including sentiment analysis (positive, neutral, negative), keyword/tag recognition, and text summarization.\n",
    "\n",
    "This powerful tool leverages artificial intelligence to perform in-depth analysis on YouTube videos, saving you time and effort by eliminating the need to watch the entire video to understand its content.\n",
    "\n",
    "<div style=\"text-align: center;\">\n",
    "    <img src=\"images/machine_learning.jpg\" width=\"700\">\n",
    "</div>"
   ]
  },
  {
   "cell_type": "markdown",
   "metadata": {
    "slideshow": {
     "slide_type": "subslide"
    }
   },
   "source": [
    "## In Case You've Been Living Under a Rock for the Past 20 Years...\n",
    "### (Or perhaps if you're not making the most of YouTube!)\n",
    "YouTube is the largest video streaming platform on the web, offering a vast array of content. Beyond gaming videos and fail compilations, you can find informative videos on serious topics such as history, economics, politics, and many others.\n",
    "\n",
    "<div style=\"text-align: center;\">\n",
    "    <img src=\"images/ai_takes_over.jpg\" width=\"400\">\n",
    "</div>"
   ]
  },
  {
   "cell_type": "markdown",
   "metadata": {
    "slideshow": {
     "slide_type": "slide"
    }
   },
   "source": [
    "# Why use AudioMood"
   ]
  },
  {
   "cell_type": "markdown",
   "metadata": {
    "slideshow": {
     "slide_type": "subslide"
    }
   },
   "source": [
    "## Time is the new gold\n",
    "In today's world, time is invaluable. Social networks invest millions of dollars to capture and retain your attention. YouTube, in particular, is a treasure trove of content, yet managing your _Watch Later_ playlist can become overwhelming due to its sheer size.\n",
    "\n",
    "Employing artificial intelligence tools for rapid video consumption can revolutionize your daily routine without sacrificing your usual YouTube video consumption and freeing up more time for your family, your pets ... "
   ]
  },
  {
   "cell_type": "markdown",
   "metadata": {
    "slideshow": {
     "slide_type": "fragment"
    }
   },
   "source": [
    "... or maybe you'll watch How I Met Your Mother again, hoping for a better ending this time.\n",
    "<div style=\"text-align: center;\">\n",
    "    <img src=\"images/himym_rewatch.jpg\" width=\"400\">\n",
    "</div>"
   ]
  },
  {
   "cell_type": "markdown",
   "metadata": {
    "slideshow": {
     "slide_type": "slide"
    }
   },
   "source": [
    "# How to use AudioMood"
   ]
  },
  {
   "cell_type": "markdown",
   "metadata": {
    "slideshow": {
     "slide_type": "subslide"
    }
   },
   "source": [
    "## Prerequisites\n",
    "- **Docker/Docker Compose:** Ensure you have a fully functional Docker and Docker Compose installation on your local computer.\n",
    "- **OpenAI API Key:** To leverage the power of GPT-3.5-Turbo, obtain an API key from OpenAI.\n",
    "- **Environment Variable:** Create a `.env` file in the main directory and add the line `OPENAI_API_KEY=your-api-key`.\n",
    "<div style=\"text-align: center;\">\n",
    "    <img src=\"images/prerequisites.jpg\" width=\"400\">\n",
    "</div>"
   ]
  },
  {
   "cell_type": "markdown",
   "metadata": {
    "slideshow": {
     "slide_type": "subslide"
    }
   },
   "source": [
    "## Let's get started!\n",
    "You first need to clone the repository on your local computer. For the initial run of the application, navigate to its main directory and execute the following command:\n",
    "```bash\n",
    "docker-compose up --build\n",
    "```\n",
    "Then go to [localhost:5000]() for the user interface.\n",
    "\n",
    "To stop the application we recommend using `docker-compose down`. To start again your application you won't need the `--build` option, so just type `docker-compose up`."
   ]
  },
  {
   "cell_type": "markdown",
   "metadata": {
    "slideshow": {
     "slide_type": "subslide"
    }
   },
   "source": [
    "## User Interface\n",
    "The user is simply asked to copy and paste the URL of the YouTube video they want to analyze. Then, select a model size for audio-to-text transcription, press Submit, and wait a couple of minutes. The video analysis will appear into this same page. The longer the video, the longer the waiting time.\n",
    "\n",
    "<div style=\"margin-left: 100px; margin-top:20px;\">\n",
    "    <img src=\"images/AudioMood UI.png\" width=\"700\">\n",
    "</div>"
   ]
  },
  {
   "cell_type": "markdown",
   "metadata": {
    "slideshow": {
     "slide_type": "subslide"
    }
   },
   "source": [
    "## AudioMood Features\n",
    "The graphs and analysis AudioMood provides are:\n",
    "- Sentiment Distribution\n",
    "- Sentiment Timeline\n",
    "- Top 10 Tags\n",
    "- Top 5 Tags Introduction Timing\n",
    "- Top 5 Tags Median Position\n",
    "- Extract"
   ]
  },
  {
   "cell_type": "markdown",
   "metadata": {
    "slideshow": {
     "slide_type": "subslide"
    }
   },
   "source": [
    "### Sentiment Distribution\n",
    "This graph illustrates the percentage distribution of sentiments categorized as Positive, Neutral, and Negative. Each evaluation is based on text chunks of approximately 15 words.\n",
    "\n",
    "<div style=\"margin-left: 100px; margin-top:40px;\">\n",
    "    <img src=\"images/sentiment_distribution.png\" width=\"350\">\n",
    "</div>"
   ]
  },
  {
   "cell_type": "markdown",
   "metadata": {
    "slideshow": {
     "slide_type": "subslide"
    }
   },
   "source": [
    "### Sentiment Timeline\n",
    "This graph illustrates the sentiment evaluation over the time on each text chunk identified by an incremental ID. \n",
    "\n",
    "<div style=\"margin-left: 100px; margin-top:40px;\">\n",
    "    <img src=\"images/AM_Sentiment_Timeline.png\" width=\"1000\">\n",
    "</div>"
   ]
  },
  {
   "cell_type": "markdown",
   "metadata": {
    "slideshow": {
     "slide_type": "subslide"
    }
   },
   "source": [
    "### Top 10 Tags\n",
    "This list presents the Top 10 Tags or Keywords found in the video, ranked by frequency of occurrence.\n",
    "### Top 5 Tags Introduction Timing and Top 5 Tags Median Position\n",
    "These two graphs illustrate the following for the Top 5 Tags in the video:\n",
    "1. Their first appearance, indicating when each theme was initially discussed.\n",
    "2. Their median position, helping an estimate of the extent to which each theme was discussed throughout the video.\n",
    "\n",
    "<div style=\"margin-left: 100px; margin-top:40px;\">\n",
    "    <img src=\"images/top_tags.jpg\">\n",
    "</div>\n"
   ]
  },
  {
   "cell_type": "markdown",
   "metadata": {
    "slideshow": {
     "slide_type": "subslide"
    }
   },
   "source": [
    "### Extract\n",
    "A little summarization of the main topics discussed in the video.\n",
    "\n",
    "<div style=\"margin-left: 100px; margin-top:40px;\">\n",
    "    <img src=\"images/extract.png\" width=\"800px\">\n",
    "</div>"
   ]
  },
  {
   "cell_type": "markdown",
   "metadata": {
    "slideshow": {
     "slide_type": "slide"
    }
   },
   "source": [
    "# AudioMood Architecture"
   ]
  },
  {
   "cell_type": "markdown",
   "metadata": {
    "slideshow": {
     "slide_type": "subslide"
    }
   },
   "source": [
    "## Docker for Containerization of each service\n",
    "- Consistent and isolated environments through containerization\n",
    "- Simplifies deployment, scaling, and management of applications\n",
    "- Lightweight and efficient resource usage\n",
    "- Microservices oriented\n",
    "- Easy to manage multi-container applications using Docker-Compose automating the orchestration of each container\n",
    "<div style=\"margin-left: 100px; margin-top:40px;\">\n",
    "    <img src=\"images/docker.jpg\" width=\"400px\">\n",
    "</div>"
   ]
  },
  {
   "cell_type": "markdown",
   "metadata": {
    "slideshow": {
     "slide_type": "subslide"
    }
   },
   "source": [
    "## Flask for web development\n",
    "- Lightweight web micro framework using Python.\n",
    "- Core functionalities essential for web development.\n",
    "- No need for unnecessary components.\n",
    "- Sends to the Python Producer service the YouTube URL.\n",
    "<div style=\"margin-left: 100px; margin-top:40px;\">\n",
    "    <img src=\"images/flask.png\" width=\"400px\">\n",
    "</div>"
   ]
  },
  {
   "cell_type": "markdown",
   "metadata": {
    "slideshow": {
     "slide_type": "subslide"
    }
   },
   "source": [
    "## Python Producer\n",
    "- We leverage the power of Python's capabilities to easily download the audio from the YouTube video submitted by the user and convert it into MP3 format.\n",
    "- Then process the MP3 audio using OpenAI Whisper model to audio-to-text transcription.\n",
    "- Sends to Logstash the full text for summarization and text chunks for sentiment analysis and entities recognition.\n",
    "<div style=\"margin-left: 100px; margin-top:40px;\">\n",
    "    <img src=\"images/python_producer.jpg\" width=\"400px\">\n",
    "</div>"
   ]
  },
  {
   "cell_type": "markdown",
   "metadata": {
    "slideshow": {
     "slide_type": "subslide"
    }
   },
   "source": [
    "## Logstash for Data Ingestion\n",
    "- It integrates perfectly with ElasticSearch and Kibana within the ELK Stack, providing a comprehensive solution for data analytics and visualization\n",
    "- Can ingest data from a variety of sources.\n",
    "- Handles large volumes of data effectively, thanks to its scalability.\n",
    "- Sends to the Kafka Broker the full text transcription into the summary topic, and the text chunks into sentiment and entities topics.\n",
    "<div style=\"margin-left: 100px; margin-top:40px;\">\n",
    "    <img src=\"images/logstash.png\" width=\"400px\">\n",
    "</div>"
   ]
  },
  {
   "cell_type": "markdown",
   "metadata": {
    "slideshow": {
     "slide_type": "subslide"
    }
   },
   "source": [
    "## Kafka in KRaft Mode for Data Streaming\n",
    "- Capable of handling large volumes of data with low latency.\n",
    "- Easily scales horizontally to accommodate growing data and traffic.\n",
    "- No need for ZooKeeper, reducing complexity and operational overhead.\n",
    "- Aligns with Kafka's roadmap, ensuring better support and more features in future releases.\n",
    "- Stores data into three different topics: summary, sentiment and entities.\n",
    "<div style=\"margin-left: 100px; margin-top:40px;\">\n",
    "    <img src=\"images/kafka.jpg\" width=\"450px\">\n",
    "</div>"
   ]
  },
  {
   "cell_type": "markdown",
   "metadata": {
    "slideshow": {
     "slide_type": "subslide"
    },
    "vscode": {
     "languageId": "plaintext"
    }
   },
   "source": [
    "## Spark with SparkNLP and GPT-3.5-Turbo for Data Processing\n",
    "Three different Apache Spark services that read data from Kafka Topics, process them and send the result to ElasticSearch:\n",
    "1. Spark-Sentiment for sentiment analysis leveraging SparkNLP.\n",
    "2. Spark-Entities for tags/entities recognition leveraging SparkNLP.\n",
    "3. Spark-Summary for text summarization leveraging the power of GPT-3.5-Turbo.\n",
    "<div style=\"margin-left: 20px;\">\n",
    "    <img src=\"images/spark.jpg\" width=\"600\">\n",
    "</div>\n"
   ]
  },
  {
   "cell_type": "markdown",
   "metadata": {
    "slideshow": {
     "slide_type": "subslide"
    }
   },
   "source": [
    "## ElasticSearch for Data Indexing\n",
    "- Fast ad powerful real-time search and analytics capabilities.\n",
    "- Handles easily large volumes of data.\n",
    "- Complete integration with Kibana within ELK Stack.\n",
    "- Receives data from Apache Spark services into three indexes: summary, entities and sentiment.\n",
    "<div style=\"margin-left: 100px; margin-top:40px;\">\n",
    "    <img src=\"images/elasticsearch.png\" width=\"450px\">\n",
    "</div>"
   ]
  },
  {
   "cell_type": "markdown",
   "metadata": {
    "slideshow": {
     "slide_type": "subslide"
    }
   },
   "source": [
    "## Kibana for Data Visualization\n",
    "- Intuitive and modern graphs\n",
    "- User-friendly interface\n",
    "- Complete integration with Elasticsearch within ELK Stack\n",
    "<div style=\"margin-left: 100px; margin-top:40px;\">\n",
    "    <img src=\"images/kibana.png\" width=\"450px\">\n",
    "</div>"
   ]
  },
  {
   "cell_type": "markdown",
   "metadata": {
    "slideshow": {
     "slide_type": "subslide"
    }
   },
   "source": [
    "## Comprehensive Project Structure\n",
    "\n",
    "<div style=\"margin-left: 100px; margin-top:40px;\">\n",
    "    <img src=\"images/project-architecture.jpg\" width=\"1300px\">\n",
    "</div>"
   ]
  },
  {
   "cell_type": "markdown",
   "metadata": {
    "slideshow": {
     "slide_type": "slide"
    }
   },
   "source": [
    "# What's next for AudioMood"
   ]
  },
  {
   "cell_type": "markdown",
   "metadata": {
    "slideshow": {
     "slide_type": "subslide"
    }
   },
   "source": [
    "## Possible Enhancements\n",
    "1. Reset the application without performing a full restart. \n",
    "2. Load additional videos while storing previous results in a history list.\n",
    "3. Leverage an audio-to-text model faster than OpenAI Whisper.\n",
    "4. Provide the user with the capability to download a file containing a summary of the analysis results.\n",
    "5. Implement a feature to directly load a text, so that we can make the same analysis also for large text. "
   ]
  },
  {
   "cell_type": "markdown",
   "metadata": {
    "slideshow": {
     "slide_type": "slide"
    }
   },
   "source": [
    "# Thank you for your attention!"
   ]
  }
 ],
 "metadata": {
  "kernelspec": {
   "display_name": "Python 3 (ipykernel)",
   "language": "python",
   "name": "python3"
  },
  "language_info": {
   "codemirror_mode": {
    "name": "ipython",
    "version": 3
   },
   "file_extension": ".py",
   "mimetype": "text/x-python",
   "name": "python",
   "nbconvert_exporter": "python",
   "pygments_lexer": "ipython3",
   "version": "3.12.0"
  }
 },
 "nbformat": 4,
 "nbformat_minor": 4
}
